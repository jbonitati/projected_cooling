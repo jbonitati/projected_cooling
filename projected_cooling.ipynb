{
 "cells": [
  {
   "cell_type": "markdown",
   "metadata": {},
   "source": [
    "This is the projected cooling algorithm for the IBM bootcamp on Oct. 18-19th 2019. Group members: Joey Bonitati, Ilaria Siloi, and Jacob Watkins"
   ]
  },
  {
   "cell_type": "code",
   "execution_count": 62,
   "metadata": {},
   "outputs": [],
   "source": [
    "import numpy as np\n",
    "from qiskit import ClassicalRegister, QuantumRegister, QuantumCircuit, execute\n",
    "from qiskit.tools.visualization import plot_histogram\n",
    "import matplotlib.pyplot as plt\n",
    "%matplotlib inline"
   ]
  },
  {
   "cell_type": "code",
   "execution_count": 61,
   "metadata": {},
   "outputs": [],
   "source": [
    "#parameters\n",
    "L = 3\n",
    "n_qubit = 2*L+1\n",
    "Lt = 10.\n",
    "nt = 40\n",
    "deltat = Lt/nt\n",
    "V0 = -1."
   ]
  },
  {
   "cell_type": "markdown",
   "metadata": {},
   "source": [
    "Define some useful gates "
   ]
  },
  {
   "cell_type": "code",
   "execution_count": 58,
   "metadata": {},
   "outputs": [],
   "source": [
    "def N(qc, q1, q2, alpha, beta, gamma):\n",
    "    qc.rz(np.pi/2,q2)\n",
    "    qc.cx(q2,q1)\n",
    "    qc.rz(-np.pi/2,q1)\n",
    "    qc.ry(np.pi/2- 2*alpha,q2)\n",
    "    qc.cx(q1,q2)\n",
    "    qc.ry(2*beta-np.pi/2,q2)\n",
    "    qc.cx(q2,q1)\n",
    "    qc.rz(-np.pi/2,q1)"
   ]
  },
  {
   "cell_type": "markdown",
   "metadata": {},
   "source": [
    "Construct the quantum circuit"
   ]
  },
  {
   "cell_type": "code",
   "execution_count": 59,
   "metadata": {},
   "outputs": [
    {
     "data": {
      "text/plain": [
       "<qiskit.circuit.instructionset.InstructionSet at 0x12d6d5a50>"
      ]
     },
     "execution_count": 59,
     "metadata": {},
     "output_type": "execute_result"
    }
   ],
   "source": [
    "qr = QuantumRegister(n_qubit)\n",
    "cr = ClassicalRegister(n_qubit)\n",
    "\n",
    "qc = QuantumCircuit(qr,cr)\n",
    "\n",
    "#initialize state\n",
    "qc.x(L)\n",
    "qc.barrier()\n",
    "\n",
    "#perform time evolution\n",
    "for step in range(0,nt):\n",
    "        #Potential\n",
    "        qc.rz(2*deltat*V0, L)\n",
    "        qc.barrier()\n",
    "        #Diagonal Kinetic\n",
    "        qc.rz(2*deltat,np.arange(0,n_qubit))\n",
    "        qc.barrier()\n",
    "        #Even kinetic\n",
    "        for i in range(0,n_qubit-1,2):\n",
    "            N(qc,i,i+1,deltat/2,deltat/2,0)\n",
    "        qc.barrier()\n",
    "        #Odd kinetic\n",
    "        for i in range(1,n_qubit,2):\n",
    "            N(qc,i,i+1,deltat/2,deltat/2,0)\n",
    "        qc.barrier()\n",
    "\n",
    "#qc.measure(qr,cr)            \n",
    "#qc.draw(output='mpl')\n"
   ]
  },
  {
   "cell_type": "code",
   "execution_count": 60,
   "metadata": {},
   "outputs": [
    {
     "data": {
      "image/png": "[encoded data removed]",
      "text/plain": [
       "<Figure size 504x360 with 1 Axes>"
      ]
     },
     "execution_count": 60,
     "metadata": {},
     "output_type": "execute_result"
    }
   ],
   "source": [
    "from qiskit import BasicAer\n",
    "backend = BasicAer.get_backend('qasm_simulator')\n",
    "\n",
    "job_sim = execute(qc, backend)\n",
    "result_sim = job_sim.result()\n",
    "counts = result_sim.get_counts()\n",
    "plot_histogram(counts)"
   ]
  },
  {
   "cell_type": "code",
   "execution_count": 63,
   "metadata": {},
   "outputs": [
    {
     "data": {
      "text/plain": [
       "array([0.       +0.j        , 0.       +0.j        ,\n",
       "       0.       +0.j        , 0.       +0.j        ,\n",
       "       0.       +0.j        , 0.       +0.j        ,\n",
       "       0.       +0.j        , 0.       +0.j        ,\n",
       "       0.       +0.j        , 0.       +0.j        ,\n",
       "       0.       +0.j        , 0.       +0.j        ,\n",
       "       0.       +0.j        , 0.       +0.j        ,\n",
       "       0.       +0.j        , 0.       +0.j        ,\n",
       "       0.9997629+0.02177495j, 0.       +0.j        ,\n",
       "       0.       +0.j        , 0.       +0.j        ,\n",
       "       0.       +0.j        , 0.       +0.j        ,\n",
       "       0.       +0.j        , 0.       +0.j        ,\n",
       "       0.       +0.j        , 0.       +0.j        ,\n",
       "       0.       +0.j        , 0.       +0.j        ,\n",
       "       0.       +0.j        , 0.       +0.j        ,\n",
       "       0.       +0.j        , 0.       +0.j        ,\n",
       "       0.       +0.j        , 0.       +0.j        ,\n",
       "       0.       +0.j        , 0.       +0.j        ,\n",
       "       0.       +0.j        , 0.       +0.j        ,\n",
       "       0.       +0.j        , 0.       +0.j        ,\n",
       "       0.       +0.j        , 0.       +0.j        ,\n",
       "       0.       +0.j        , 0.       +0.j        ,\n",
       "       0.       +0.j        , 0.       +0.j        ,\n",
       "       0.       +0.j        , 0.       +0.j        ,\n",
       "       0.       +0.j        , 0.       +0.j        ,\n",
       "       0.       +0.j        , 0.       +0.j        ,\n",
       "       0.       +0.j        , 0.       +0.j        ,\n",
       "       0.       +0.j        , 0.       +0.j        ,\n",
       "       0.       +0.j        , 0.       +0.j        ,\n",
       "       0.       +0.j        , 0.       +0.j        ,\n",
       "       0.       +0.j        , 0.       +0.j        ,\n",
       "       0.       +0.j        , 0.       +0.j        ,\n",
       "       0.       +0.j        , 0.       +0.j        ,\n",
       "       0.       +0.j        , 0.       +0.j        ,\n",
       "       0.       +0.j        , 0.       +0.j        ,\n",
       "       0.       +0.j        , 0.       +0.j        ,\n",
       "       0.       +0.j        , 0.       +0.j        ,\n",
       "       0.       +0.j        , 0.       +0.j        ,\n",
       "       0.       +0.j        , 0.       +0.j        ,\n",
       "       0.       +0.j        , 0.       +0.j        ,\n",
       "       0.       +0.j        , 0.       +0.j        ,\n",
       "       0.       +0.j        , 0.       +0.j        ,\n",
       "       0.       +0.j        , 0.       +0.j        ,\n",
       "       0.       +0.j        , 0.       +0.j        ,\n",
       "       0.       +0.j        , 0.       +0.j        ,\n",
       "       0.       +0.j        , 0.       +0.j        ,\n",
       "       0.       +0.j        , 0.       +0.j        ,\n",
       "       0.       +0.j        , 0.       +0.j        ,\n",
       "       0.       +0.j        , 0.       +0.j        ,\n",
       "       0.       +0.j        , 0.       +0.j        ,\n",
       "       0.       +0.j        , 0.       +0.j        ,\n",
       "       0.       +0.j        , 0.       +0.j        ,\n",
       "       0.       +0.j        , 0.       +0.j        ,\n",
       "       0.       +0.j        , 0.       +0.j        ,\n",
       "       0.       +0.j        , 0.       +0.j        ,\n",
       "       0.       +0.j        , 0.       +0.j        ,\n",
       "       0.       +0.j        , 0.       +0.j        ,\n",
       "       0.       +0.j        , 0.       +0.j        ,\n",
       "       0.       +0.j        , 0.       +0.j        ,\n",
       "       0.       +0.j        , 0.       +0.j        ,\n",
       "       0.       +0.j        , 0.       +0.j        ,\n",
       "       0.       +0.j        , 0.       +0.j        ,\n",
       "       0.       +0.j        , 0.       +0.j        ,\n",
       "       0.       +0.j        , 0.       +0.j        ])"
      ]
     },
     "execution_count": 63,
     "metadata": {},
     "output_type": "execute_result"
    }
   ],
   "source": [
    "backend = BasicAer.get_backend('statevector_simulator')\n",
    "\n",
    "job_sim = execute(qc, backend)\n",
    "result_sim = job_sim.result()\n",
    "quantum_state = result_sim.get_statevector()\n",
    "\n",
    "quantum_state"
   ]
  }
 ],
 "metadata": {
  "kernelspec": {
   "display_name": "Python 3",
   "language": "python",
   "name": "python3"
  },
  "language_info": {
   "codemirror_mode": {
    "name": "ipython",
    "version": 3
   },
   "file_extension": ".py",
   "mimetype": "text/x-python",
   "name": "python",
   "nbconvert_exporter": "python",
   "pygments_lexer": "ipython3",
   "version": "3.7.4"
  }
 },
 "nbformat": 4,
 "nbformat_minor": 2
}
